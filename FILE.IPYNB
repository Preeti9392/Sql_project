{
 "cells": [
  {
   "cell_type": "code",
   "execution_count": 17,
   "id": "2e0159ef",
   "metadata": {},
   "outputs": [],
   "source": [
    "import pandas as pd\n",
    "import sqlite3\n",
    "connexion = sqlite3.connect(\"kbo_database.db\")\n",
    "cursor = connexion.cursor()"
   ]
  },
  {
   "cell_type": "code",
   "execution_count": null,
   "id": "55ba06da",
   "metadata": {},
   "outputs": [
    {
     "ename": "OperationalError",
     "evalue": "database is locked",
     "output_type": "error",
     "traceback": [
      "\u001b[1;31m---------------------------------------------------------------------------\u001b[0m",
      "\u001b[1;31mOperationalError\u001b[0m                          Traceback (most recent call last)",
      "Cell \u001b[1;32mIn[18], line 1\u001b[0m\n\u001b[1;32m----> 1\u001b[0m \u001b[43mcursor\u001b[49m\u001b[38;5;241;43m.\u001b[39;49m\u001b[43mexecute\u001b[49m\u001b[43m(\u001b[49m\u001b[38;5;124;43m\"\"\"\u001b[39;49m\n\u001b[0;32m      2\u001b[0m \u001b[38;5;124;43m    SELECT name\u001b[39;49m\n\u001b[0;32m      3\u001b[0m \u001b[38;5;124;43m    FROM sqlite_master\u001b[39;49m\n\u001b[0;32m      4\u001b[0m \u001b[38;5;124;43m    WHERE type=\u001b[39;49m\u001b[38;5;124;43m'\u001b[39;49m\u001b[38;5;124;43mtable\u001b[39;49m\u001b[38;5;124;43m'\u001b[39;49m\u001b[38;5;124;43m;\u001b[39;49m\n\u001b[0;32m      5\u001b[0m \u001b[38;5;124;43m\"\"\"\u001b[39;49m\u001b[43m)\u001b[49m\n\u001b[0;32m      6\u001b[0m tables \u001b[38;5;241m=\u001b[39m cursor\u001b[38;5;241m.\u001b[39mfetchall()\n\u001b[0;32m      7\u001b[0m df_tables \u001b[38;5;241m=\u001b[39m pd\u001b[38;5;241m.\u001b[39mDataFrame(tables, columns\u001b[38;5;241m=\u001b[39m[\u001b[38;5;124m\"\u001b[39m\u001b[38;5;124mTable Name\u001b[39m\u001b[38;5;124m\"\u001b[39m])\n",
      "\u001b[1;31mOperationalError\u001b[0m: database is locked"
     ]
    }
   ],
   "source": [
    "cursor.execute(\"\"\"\n",
    "    SELECT name\n",
    "    FROM sqlite_master\n",
    "    WHERE type='table';\n",
    "\"\"\")\n",
    "tables = cursor.fetchall()\n",
    "df_tables = pd.DataFrame(tables, columns=[\"Table Name\"])\n",
    "df_tables"
   ]
  },
  {
   "cell_type": "code",
   "execution_count": 16,
   "id": "e831e04f",
   "metadata": {},
   "outputs": [
    {
     "ename": "OperationalError",
     "evalue": "database is locked",
     "output_type": "error",
     "traceback": [
      "\u001b[1;31m---------------------------------------------------------------------------\u001b[0m",
      "\u001b[1;31mOperationalError\u001b[0m                          Traceback (most recent call last)",
      "Cell \u001b[1;32mIn[16], line 1\u001b[0m\n\u001b[1;32m----> 1\u001b[0m \u001b[43mcursor\u001b[49m\u001b[38;5;241;43m.\u001b[39;49m\u001b[43mexecute\u001b[49m\u001b[43m(\u001b[49m\u001b[38;5;124;43m\"\"\"\u001b[39;49m\n\u001b[0;32m      2\u001b[0m \u001b[38;5;124;43m     SELECT *\u001b[39;49m\n\u001b[0;32m      3\u001b[0m \u001b[38;5;124;43m    FROM denomination;\u001b[39;49m\n\u001b[0;32m      4\u001b[0m \u001b[38;5;124;43m\"\"\"\u001b[39;49m\u001b[43m)\u001b[49m\n\u001b[0;32m      5\u001b[0m rows \u001b[38;5;241m=\u001b[39m cursor\u001b[38;5;241m.\u001b[39mfetchall()\n\u001b[0;32m      6\u001b[0m columns \u001b[38;5;241m=\u001b[39m [description[\u001b[38;5;241m0\u001b[39m] \u001b[38;5;28;01mfor\u001b[39;00m description \u001b[38;5;129;01min\u001b[39;00m cursor\u001b[38;5;241m.\u001b[39mdescription]\n",
      "\u001b[1;31mOperationalError\u001b[0m: database is locked"
     ]
    }
   ],
   "source": [
    "cursor.execute(\"\"\"\n",
    "     SELECT *\n",
    "    FROM denomination;\n",
    "\"\"\")\n",
    "rows = cursor.fetchall()\n",
    "columns = [description[0] for description in cursor.description]\n",
    "denomination = pd.DataFrame(rows, columns=columns)\n",
    "denomination"
   ]
  },
  {
   "cell_type": "code",
   "execution_count": null,
   "id": "f7f016d3",
   "metadata": {},
   "outputs": [
    {
     "data": {
      "text/html": [
       "<div>\n",
       "<style scoped>\n",
       "    .dataframe tbody tr th:only-of-type {\n",
       "        vertical-align: middle;\n",
       "    }\n",
       "\n",
       "    .dataframe tbody tr th {\n",
       "        vertical-align: top;\n",
       "    }\n",
       "\n",
       "    .dataframe thead th {\n",
       "        text-align: right;\n",
       "    }\n",
       "</style>\n",
       "<table border=\"1\" class=\"dataframe\">\n",
       "  <thead>\n",
       "    <tr style=\"text-align: right;\">\n",
       "      <th></th>\n",
       "      <th>EntityNumber</th>\n",
       "      <th>Language</th>\n",
       "      <th>TypeOfDenomination</th>\n",
       "      <th>Denomination</th>\n",
       "    </tr>\n",
       "  </thead>\n",
       "  <tbody>\n",
       "    <tr>\n",
       "      <th>0</th>\n",
       "      <td>0200.065.765</td>\n",
       "      <td>2</td>\n",
       "      <td>1</td>\n",
       "      <td>Intergemeentelijke Vereniging Veneco</td>\n",
       "    </tr>\n",
       "    <tr>\n",
       "      <th>1</th>\n",
       "      <td>0200.065.765</td>\n",
       "      <td>2</td>\n",
       "      <td>2</td>\n",
       "      <td>Veneco</td>\n",
       "    </tr>\n",
       "    <tr>\n",
       "      <th>2</th>\n",
       "      <td>0200.068.636</td>\n",
       "      <td>2</td>\n",
       "      <td>1</td>\n",
       "      <td>Farys</td>\n",
       "    </tr>\n",
       "    <tr>\n",
       "      <th>3</th>\n",
       "      <td>0200.171.970</td>\n",
       "      <td>0</td>\n",
       "      <td>1</td>\n",
       "      <td>Sanatorium-Hospitaal van Lemberge</td>\n",
       "    </tr>\n",
       "    <tr>\n",
       "      <th>4</th>\n",
       "      <td>0200.245.711</td>\n",
       "      <td>2</td>\n",
       "      <td>1</td>\n",
       "      <td>Intercommunaal Sanatorium Denderoord</td>\n",
       "    </tr>\n",
       "    <tr>\n",
       "      <th>...</th>\n",
       "      <td>...</td>\n",
       "      <td>...</td>\n",
       "      <td>...</td>\n",
       "      <td>...</td>\n",
       "    </tr>\n",
       "    <tr>\n",
       "      <th>3285390</th>\n",
       "      <td>9.001.794.889</td>\n",
       "      <td>1</td>\n",
       "      <td>4</td>\n",
       "      <td>DRAL Belgium</td>\n",
       "    </tr>\n",
       "    <tr>\n",
       "      <th>3285391</th>\n",
       "      <td>9.001.795.186</td>\n",
       "      <td>2</td>\n",
       "      <td>4</td>\n",
       "      <td>Vallen Supply Belgium</td>\n",
       "    </tr>\n",
       "    <tr>\n",
       "      <th>3285392</th>\n",
       "      <td>9.001.795.384</td>\n",
       "      <td>2</td>\n",
       "      <td>4</td>\n",
       "      <td>Mipa Belux</td>\n",
       "    </tr>\n",
       "    <tr>\n",
       "      <th>3285393</th>\n",
       "      <td>9.001.795.780</td>\n",
       "      <td>2</td>\n",
       "      <td>4</td>\n",
       "      <td>HARTREE PARTNERS (UK) LTD (BELGIUM BRANCH)</td>\n",
       "    </tr>\n",
       "    <tr>\n",
       "      <th>3285394</th>\n",
       "      <td>9.001.795.879</td>\n",
       "      <td>2</td>\n",
       "      <td>4</td>\n",
       "      <td>KINTO EU Brussels Office</td>\n",
       "    </tr>\n",
       "  </tbody>\n",
       "</table>\n",
       "<p>3285395 rows × 4 columns</p>\n",
       "</div>"
      ],
      "text/plain": [
       "          EntityNumber  Language  TypeOfDenomination  \\\n",
       "0         0200.065.765         2                   1   \n",
       "1         0200.065.765         2                   2   \n",
       "2         0200.068.636         2                   1   \n",
       "3         0200.171.970         0                   1   \n",
       "4         0200.245.711         2                   1   \n",
       "...                ...       ...                 ...   \n",
       "3285390  9.001.794.889         1                   4   \n",
       "3285391  9.001.795.186         2                   4   \n",
       "3285392  9.001.795.384         2                   4   \n",
       "3285393  9.001.795.780         2                   4   \n",
       "3285394  9.001.795.879         2                   4   \n",
       "\n",
       "                                       Denomination  \n",
       "0              Intergemeentelijke Vereniging Veneco  \n",
       "1                                            Veneco  \n",
       "2                                             Farys  \n",
       "3                 Sanatorium-Hospitaal van Lemberge  \n",
       "4              Intercommunaal Sanatorium Denderoord  \n",
       "...                                             ...  \n",
       "3285390                                DRAL Belgium  \n",
       "3285391                       Vallen Supply Belgium  \n",
       "3285392                                  Mipa Belux  \n",
       "3285393  HARTREE PARTNERS (UK) LTD (BELGIUM BRANCH)  \n",
       "3285394                    KINTO EU Brussels Office  \n",
       "\n",
       "[3285395 rows x 4 columns]"
      ]
     },
     "execution_count": 15,
     "metadata": {},
     "output_type": "execute_result"
    }
   ],
   "source": [
    "cursor.execute(\"\"\"\n",
    "     SELECT *\n",
    "    FROM denomination;\n",
    "\"\"\")\n",
    "rows = cursor.fetchall()\n",
    "columns = [description[0] for description in cursor.description]\n",
    "branch = pd.DataFrame(rows, columns=columns)\n",
    "branch"
   ]
  },
  {
   "cell_type": "code",
   "execution_count": null,
   "id": "7a0ccab4",
   "metadata": {},
   "outputs": [],
   "source": []
  },
  {
   "cell_type": "code",
   "execution_count": null,
   "id": "2cd4b879",
   "metadata": {},
   "outputs": [],
   "source": []
  },
  {
   "cell_type": "code",
   "execution_count": null,
   "id": "42fc7cb9",
   "metadata": {},
   "outputs": [],
   "source": []
  }
 ],
 "metadata": {
  "kernelspec": {
   "display_name": ".venv",
   "language": "python",
   "name": "python3"
  },
  "language_info": {
   "codemirror_mode": {
    "name": "ipython",
    "version": 3
   },
   "file_extension": ".py",
   "mimetype": "text/x-python",
   "name": "python",
   "nbconvert_exporter": "python",
   "pygments_lexer": "ipython3",
   "version": "3.10.9"
  }
 },
 "nbformat": 4,
 "nbformat_minor": 5
}
